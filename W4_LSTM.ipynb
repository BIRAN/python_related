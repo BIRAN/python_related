{
  "nbformat": 4,
  "nbformat_minor": 0,
  "metadata": {
    "colab": {
      "name": "W4_LSTM.ipynb",
      "version": "0.3.2",
      "provenance": [],
      "collapsed_sections": [],
      "include_colab_link": true
    },
    "kernelspec": {
      "name": "python3",
      "display_name": "Python 3"
    }
  },
  "cells": [
    {
      "cell_type": "markdown",
      "metadata": {
        "id": "view-in-github",
        "colab_type": "text"
      },
      "source": [
        "<a href=\"https://colab.research.google.com/github/BIRAN/python_related/blob/master/W4_LSTM.ipynb\" target=\"_parent\"><img src=\"https://colab.research.google.com/assets/colab-badge.svg\" alt=\"Open In Colab\"/></a>"
      ]
    },
    {
      "cell_type": "code",
      "metadata": {
        "id": "D1J15Vh_1Jih",
        "colab_type": "code",
        "outputId": "7151ce4a-0733-465d-b486-9d7055f107d1",
        "colab": {
          "base_uri": "https://localhost:8080/",
          "height": 622
        }
      },
      "source": [
        "!pip install tf-nightly-2.0-preview\n"
      ],
      "execution_count": 0,
      "outputs": [
        {
          "output_type": "stream",
          "text": [
            "Collecting tf-nightly-2.0-preview\n",
            "\u001b[?25l  Downloading https://files.pythonhosted.org/packages/16/51/250153713afcd836e4010464801719fb486af8ca6aa3abbe213bed677a08/tf_nightly_2.0_preview-2.0.0.dev20190803-cp36-cp36m-manylinux2010_x86_64.whl (86.2MB)\n",
            "\u001b[K     |████████████████████████████████| 86.2MB 1.3MB/s \n",
            "\u001b[?25hRequirement already satisfied: grpcio>=1.8.6 in /usr/local/lib/python3.6/dist-packages (from tf-nightly-2.0-preview) (1.15.0)\n",
            "Requirement already satisfied: keras-applications>=1.0.8 in /usr/local/lib/python3.6/dist-packages (from tf-nightly-2.0-preview) (1.0.8)\n",
            "Requirement already satisfied: six>=1.10.0 in /usr/local/lib/python3.6/dist-packages (from tf-nightly-2.0-preview) (1.12.0)\n",
            "Requirement already satisfied: keras-preprocessing>=1.0.5 in /usr/local/lib/python3.6/dist-packages (from tf-nightly-2.0-preview) (1.1.0)\n",
            "Requirement already satisfied: wrapt>=1.11.1 in /usr/local/lib/python3.6/dist-packages (from tf-nightly-2.0-preview) (1.11.2)\n",
            "Requirement already satisfied: astor>=0.6.0 in /usr/local/lib/python3.6/dist-packages (from tf-nightly-2.0-preview) (0.8.0)\n",
            "Requirement already satisfied: termcolor>=1.1.0 in /usr/local/lib/python3.6/dist-packages (from tf-nightly-2.0-preview) (1.1.0)\n",
            "Requirement already satisfied: absl-py>=0.7.0 in /usr/local/lib/python3.6/dist-packages (from tf-nightly-2.0-preview) (0.7.1)\n",
            "Requirement already satisfied: gast>=0.2.0 in /usr/local/lib/python3.6/dist-packages (from tf-nightly-2.0-preview) (0.2.2)\n",
            "Requirement already satisfied: protobuf>=3.6.1 in /usr/local/lib/python3.6/dist-packages (from tf-nightly-2.0-preview) (3.7.1)\n",
            "Requirement already satisfied: wheel>=0.26 in /usr/local/lib/python3.6/dist-packages (from tf-nightly-2.0-preview) (0.33.4)\n",
            "Requirement already satisfied: numpy<2.0,>=1.16.0 in /usr/local/lib/python3.6/dist-packages (from tf-nightly-2.0-preview) (1.16.4)\n",
            "Collecting tensorflow-estimator-2.0-preview (from tf-nightly-2.0-preview)\n",
            "\u001b[?25l  Downloading https://files.pythonhosted.org/packages/bf/b6/bff83560acf1082f539bcfcba4a4fe627988e9544d2e917788f83f50ea5e/tensorflow_estimator_2.0_preview-1.14.0.dev2019080300-py2.py3-none-any.whl (449kB)\n",
            "\u001b[K     |████████████████████████████████| 450kB 43.1MB/s \n",
            "\u001b[?25hRequirement already satisfied: google-pasta>=0.1.6 in /usr/local/lib/python3.6/dist-packages (from tf-nightly-2.0-preview) (0.1.7)\n",
            "Collecting opt-einsum>=2.3.2 (from tf-nightly-2.0-preview)\n",
            "\u001b[?25l  Downloading https://files.pythonhosted.org/packages/f6/d6/44792ec668bcda7d91913c75237314e688f70415ab2acd7172c845f0b24f/opt_einsum-2.3.2.tar.gz (59kB)\n",
            "\u001b[K     |████████████████████████████████| 61kB 22.9MB/s \n",
            "\u001b[?25hCollecting tb-nightly<1.16.0a0,>=1.15.0a0 (from tf-nightly-2.0-preview)\n",
            "\u001b[?25l  Downloading https://files.pythonhosted.org/packages/5c/ba/1704b725ebcd32919a111b7028574a6fd5058b285b031c0e03e598fb3cfc/tb_nightly-1.15.0a20190802-py3-none-any.whl (4.3MB)\n",
            "\u001b[K     |████████████████████████████████| 4.3MB 34.4MB/s \n",
            "\u001b[?25hRequirement already satisfied: h5py in /usr/local/lib/python3.6/dist-packages (from keras-applications>=1.0.8->tf-nightly-2.0-preview) (2.8.0)\n",
            "Requirement already satisfied: setuptools in /usr/local/lib/python3.6/dist-packages (from protobuf>=3.6.1->tf-nightly-2.0-preview) (41.0.1)\n",
            "Requirement already satisfied: markdown>=2.6.8 in /usr/local/lib/python3.6/dist-packages (from tb-nightly<1.16.0a0,>=1.15.0a0->tf-nightly-2.0-preview) (3.1.1)\n",
            "Requirement already satisfied: werkzeug>=0.11.15 in /usr/local/lib/python3.6/dist-packages (from tb-nightly<1.16.0a0,>=1.15.0a0->tf-nightly-2.0-preview) (0.15.5)\n",
            "Building wheels for collected packages: opt-einsum\n",
            "  Building wheel for opt-einsum (setup.py) ... \u001b[?25l\u001b[?25hdone\n",
            "  Created wheel for opt-einsum: filename=opt_einsum-2.3.2-cp36-none-any.whl size=49882 sha256=9569cfc12030997808689318aa36d1353bb4df464e51977e3f45ce5d980d209d\n",
            "  Stored in directory: /root/.cache/pip/wheels/51/3e/a3/b351fae0cbf15373c2136a54a70f43fea5fe91d8168a5faaa4\n",
            "Successfully built opt-einsum\n",
            "Installing collected packages: tensorflow-estimator-2.0-preview, opt-einsum, tb-nightly, tf-nightly-2.0-preview\n",
            "Successfully installed opt-einsum-2.3.2 tb-nightly-1.15.0a20190802 tensorflow-estimator-2.0-preview-1.14.0.dev2019080300 tf-nightly-2.0-preview-2.0.0.dev20190803\n"
          ],
          "name": "stdout"
        }
      ]
    },
    {
      "cell_type": "code",
      "metadata": {
        "id": "BOjujz601HcS",
        "colab_type": "code",
        "outputId": "0604f3b8-0722-4a10-eabf-8b43a3187030",
        "colab": {
          "base_uri": "https://localhost:8080/",
          "height": 34
        }
      },
      "source": [
        "import tensorflow as tf\n",
        "import numpy as np\n",
        "import matplotlib.pyplot as plt\n",
        "print(tf.__version__)"
      ],
      "execution_count": 0,
      "outputs": [
        {
          "output_type": "stream",
          "text": [
            "2.0.0-dev20190803\n"
          ],
          "name": "stdout"
        }
      ]
    },
    {
      "cell_type": "code",
      "metadata": {
        "colab_type": "code",
        "id": "Zswl7jRtGzkk",
        "colab": {}
      },
      "source": [
        "def plot_series(time, series, format=\"-\", start=0, end=None):\n",
        "    plt.plot(time[start:end], series[start:end], format)\n",
        "    plt.xlabel(\"Time\")\n",
        "    plt.ylabel(\"Value\")\n",
        "    plt.grid(True)\n",
        "\n",
        "def trend(time, slope=0):\n",
        "    return slope * time\n",
        "\n",
        "def seasonal_pattern(season_time):\n",
        "    \"\"\"Just an arbitrary pattern, you can change it if you wish\"\"\"\n",
        "    return np.where(season_time < 0.4,\n",
        "                    np.cos(season_time * 2 * np.pi),\n",
        "                    1 / np.exp(3 * season_time))\n",
        "\n",
        "def seasonality(time, period, amplitude=1, phase=0):\n",
        "    \"\"\"Repeats the same pattern at each period\"\"\"\n",
        "    season_time = ((time + phase) % period) / period\n",
        "    return amplitude * seasonal_pattern(season_time)\n",
        "\n",
        "def noise(time, noise_level=1, seed=None):\n",
        "    rnd = np.random.RandomState(seed)\n",
        "    return rnd.randn(len(time)) * noise_level\n",
        "\n",
        "time = np.arange(4 * 365 + 1, dtype=\"float32\")\n",
        "baseline = 10\n",
        "series = trend(time, 0.1)  \n",
        "baseline = 10\n",
        "amplitude = 40\n",
        "slope = 0.05\n",
        "noise_level = 5\n",
        "\n",
        "# Create the series\n",
        "series = baseline + trend(time, slope) + seasonality(time, period=365, amplitude=amplitude)\n",
        "# Update with noise\n",
        "series += noise(time, noise_level, seed=42)\n",
        "\n",
        "split_time = 1000\n",
        "time_train = time[:split_time]\n",
        "x_train = series[:split_time]\n",
        "time_valid = time[split_time:]\n",
        "x_valid = series[split_time:]\n",
        "\n",
        "window_size = 20\n",
        "batch_size = 32\n",
        "shuffle_buffer_size = 1000"
      ],
      "execution_count": 0,
      "outputs": []
    },
    {
      "cell_type": "code",
      "metadata": {
        "id": "4sTTIOCbyShY",
        "colab_type": "code",
        "colab": {}
      },
      "source": [
        "def windowed_dataset(series, window_size, batch_size, shuffle_buffer):\n",
        "  dataset = tf.data.Dataset.from_tensor_slices(series)\n",
        "  dataset = dataset.window(window_size + 1, shift=1, drop_remainder=True)\n",
        "  dataset = dataset.flat_map(lambda window: window.batch(window_size + 1))\n",
        "  dataset = dataset.shuffle(shuffle_buffer).map(lambda window: (window[:-1], window[-1]))\n",
        "  dataset = dataset.batch(batch_size).prefetch(1)\n",
        "  return dataset"
      ],
      "execution_count": 0,
      "outputs": []
    },
    {
      "cell_type": "code",
      "metadata": {
        "id": "A1Hl39rklkLm",
        "colab_type": "code",
        "outputId": "ec29c8b3-36f1-41d3-952b-f1f72ca73b2b",
        "colab": {
          "base_uri": "https://localhost:8080/",
          "height": 1000
        }
      },
      "source": [
        "tf.keras.backend.clear_session()\n",
        "tf.random.set_seed(51)\n",
        "np.random.seed(51)\n",
        "\n",
        "tf.keras.backend.clear_session()\n",
        "dataset = windowed_dataset(x_train, window_size, batch_size, shuffle_buffer_size)\n",
        "\n",
        "model = tf.keras.models.Sequential([\n",
        "  tf.keras.layers.Lambda(lambda x: tf.expand_dims(x, axis=-1),\n",
        "                      input_shape=[None]),\n",
        "    tf.keras.layers.Bidirectional(tf.keras.layers.LSTM(32, return_sequences=True)),\n",
        "  tf.keras.layers.Bidirectional(tf.keras.layers.LSTM(32)),\n",
        "  tf.keras.layers.Dense(1),\n",
        "  tf.keras.layers.Lambda(lambda x: x * 100.0)\n",
        "])\n",
        "\n",
        "lr_schedule = tf.keras.callbacks.LearningRateScheduler(\n",
        "    lambda epoch: 1e-8 * 10**(epoch / 20))\n",
        "optimizer = tf.keras.optimizers.SGD(lr=1e-8, momentum=0.9)\n",
        "model.compile(loss=tf.keras.losses.Huber(),\n",
        "              optimizer=optimizer,\n",
        "              metrics=[\"mae\"])\n",
        "history = model.fit(dataset, epochs=100, callbacks=[lr_schedule])"
      ],
      "execution_count": 0,
      "outputs": [
        {
          "output_type": "stream",
          "text": [
            "WARNING: Logging before flag parsing goes to stderr.\n",
            "W0804 01:31:47.184973 140223157118848 deprecation.py:323] From /usr/local/lib/python3.6/dist-packages/tensorflow_core/python/data/util/random_seed.py:58: where (from tensorflow.python.ops.array_ops) is deprecated and will be removed in a future version.\n",
            "Instructions for updating:\n",
            "Use tf.where in 2.0, which has the same broadcast rule as np.where\n"
          ],
          "name": "stderr"
        },
        {
          "output_type": "stream",
          "text": [
            "Epoch 1/100\n"
          ],
          "name": "stdout"
        },
        {
          "output_type": "stream",
          "text": [
            "W0804 01:31:51.257431 140223157118848 deprecation.py:323] From /usr/local/lib/python3.6/dist-packages/tensorflow_core/python/keras/optimizer_v2/optimizer_v2.py:468: BaseResourceVariable.constraint (from tensorflow.python.ops.resource_variable_ops) is deprecated and will be removed in a future version.\n",
            "Instructions for updating:\n",
            "Apply a constraint manually following the optimizer update step.\n"
          ],
          "name": "stderr"
        },
        {
          "output_type": "stream",
          "text": [
            "31/31 [==============================] - 8s 258ms/step - loss: 21.4949 - mae: 22.0115\n",
            "Epoch 2/100\n",
            "31/31 [==============================] - 1s 35ms/step - loss: 21.2155 - mae: 21.6440\n",
            "Epoch 3/100\n",
            "31/31 [==============================] - 1s 34ms/step - loss: 20.7115 - mae: 21.2278\n",
            "Epoch 4/100\n",
            "31/31 [==============================] - 1s 33ms/step - loss: 20.1586 - mae: 20.7739\n",
            "Epoch 5/100\n",
            "31/31 [==============================] - 1s 34ms/step - loss: 19.7903 - mae: 20.2843\n",
            "Epoch 6/100\n",
            "31/31 [==============================] - 1s 34ms/step - loss: 19.2600 - mae: 19.6776\n",
            "Epoch 7/100\n",
            "31/31 [==============================] - 1s 34ms/step - loss: 18.2675 - mae: 18.7308\n",
            "Epoch 8/100\n",
            "31/31 [==============================] - 1s 33ms/step - loss: 17.4072 - mae: 17.9757\n",
            "Epoch 9/100\n",
            "31/31 [==============================] - 1s 34ms/step - loss: 17.2251 - mae: 17.6581\n",
            "Epoch 10/100\n",
            "31/31 [==============================] - 1s 33ms/step - loss: 16.8969 - mae: 17.3457\n",
            "Epoch 11/100\n",
            "31/31 [==============================] - 1s 33ms/step - loss: 16.6153 - mae: 17.0459\n",
            "Epoch 12/100\n",
            "31/31 [==============================] - 1s 33ms/step - loss: 16.2141 - mae: 16.7529\n",
            "Epoch 13/100\n",
            "31/31 [==============================] - 1s 34ms/step - loss: 15.9663 - mae: 16.4573\n",
            "Epoch 14/100\n",
            "31/31 [==============================] - 1s 33ms/step - loss: 15.6956 - mae: 16.1587\n",
            "Epoch 15/100\n",
            "31/31 [==============================] - 1s 35ms/step - loss: 15.3736 - mae: 15.8571\n",
            "Epoch 16/100\n",
            "31/31 [==============================] - 1s 36ms/step - loss: 15.1127 - mae: 15.5765\n",
            "Epoch 17/100\n",
            "31/31 [==============================] - 1s 33ms/step - loss: 14.7840 - mae: 15.2950\n",
            "Epoch 18/100\n",
            "31/31 [==============================] - 1s 33ms/step - loss: 14.4769 - mae: 15.0164\n",
            "Epoch 19/100\n",
            "31/31 [==============================] - 1s 34ms/step - loss: 14.3353 - mae: 14.7612\n",
            "Epoch 20/100\n",
            "31/31 [==============================] - 1s 34ms/step - loss: 14.0844 - mae: 14.5354\n",
            "Epoch 21/100\n",
            "31/31 [==============================] - 1s 33ms/step - loss: 13.8134 - mae: 14.3081\n",
            "Epoch 22/100\n",
            "31/31 [==============================] - 1s 33ms/step - loss: 13.6388 - mae: 14.1062\n",
            "Epoch 23/100\n",
            "31/31 [==============================] - 1s 33ms/step - loss: 13.3828 - mae: 13.8858\n",
            "Epoch 24/100\n",
            "31/31 [==============================] - 1s 33ms/step - loss: 13.1957 - mae: 13.7037\n",
            "Epoch 25/100\n",
            "31/31 [==============================] - 1s 33ms/step - loss: 13.0152 - mae: 13.4526\n",
            "Epoch 26/100\n",
            "31/31 [==============================] - 1s 35ms/step - loss: 12.7582 - mae: 13.2327\n",
            "Epoch 27/100\n",
            "31/31 [==============================] - 1s 33ms/step - loss: 12.5275 - mae: 12.9716\n",
            "Epoch 28/100\n",
            "31/31 [==============================] - 1s 32ms/step - loss: 12.2088 - mae: 12.7095\n",
            "Epoch 29/100\n",
            "31/31 [==============================] - 1s 33ms/step - loss: 12.3934 - mae: 12.8460\n",
            "Epoch 30/100\n",
            "31/31 [==============================] - 1s 33ms/step - loss: 11.8438 - mae: 12.3121\n",
            "Epoch 31/100\n",
            "31/31 [==============================] - 1s 33ms/step - loss: 11.3302 - mae: 11.8148\n",
            "Epoch 32/100\n",
            "31/31 [==============================] - 1s 33ms/step - loss: 10.9489 - mae: 11.4830\n",
            "Epoch 33/100\n",
            "31/31 [==============================] - 1s 34ms/step - loss: 10.6270 - mae: 11.1361\n",
            "Epoch 34/100\n",
            "31/31 [==============================] - 1s 33ms/step - loss: 10.7821 - mae: 11.3007\n",
            "Epoch 35/100\n",
            "31/31 [==============================] - 1s 33ms/step - loss: 10.9719 - mae: 11.4606\n",
            "Epoch 36/100\n",
            "31/31 [==============================] - 1s 35ms/step - loss: 10.4495 - mae: 10.9636\n",
            "Epoch 37/100\n",
            "31/31 [==============================] - 1s 33ms/step - loss: 9.9901 - mae: 10.4892\n",
            "Epoch 38/100\n",
            "31/31 [==============================] - 1s 33ms/step - loss: 9.5775 - mae: 10.0283\n",
            "Epoch 39/100\n",
            "31/31 [==============================] - 1s 34ms/step - loss: 9.0663 - mae: 9.5461\n",
            "Epoch 40/100\n",
            "31/31 [==============================] - 1s 34ms/step - loss: 8.6546 - mae: 9.1358\n",
            "Epoch 41/100\n",
            "31/31 [==============================] - 1s 34ms/step - loss: 8.2880 - mae: 8.7356\n",
            "Epoch 42/100\n",
            "31/31 [==============================] - 1s 32ms/step - loss: 7.9125 - mae: 8.4081\n",
            "Epoch 43/100\n",
            "31/31 [==============================] - 1s 33ms/step - loss: 7.6783 - mae: 8.1137\n",
            "Epoch 44/100\n",
            "31/31 [==============================] - 1s 33ms/step - loss: 7.3541 - mae: 7.8033\n",
            "Epoch 45/100\n",
            "31/31 [==============================] - 1s 34ms/step - loss: 7.1044 - mae: 7.5770\n",
            "Epoch 46/100\n",
            "31/31 [==============================] - 1s 35ms/step - loss: 6.9451 - mae: 7.3933\n",
            "Epoch 47/100\n",
            "31/31 [==============================] - 1s 33ms/step - loss: 6.5533 - mae: 7.0771\n",
            "Epoch 48/100\n",
            "31/31 [==============================] - 1s 33ms/step - loss: 6.4139 - mae: 6.9074\n",
            "Epoch 49/100\n",
            "31/31 [==============================] - 1s 33ms/step - loss: 6.3932 - mae: 6.8757\n",
            "Epoch 50/100\n",
            "31/31 [==============================] - 1s 33ms/step - loss: 6.0517 - mae: 6.5164\n",
            "Epoch 51/100\n",
            "31/31 [==============================] - 1s 33ms/step - loss: 5.8718 - mae: 6.3634\n",
            "Epoch 52/100\n",
            "31/31 [==============================] - 1s 33ms/step - loss: 5.7788 - mae: 6.2421\n",
            "Epoch 53/100\n",
            "31/31 [==============================] - 1s 34ms/step - loss: 5.6698 - mae: 6.1419\n",
            "Epoch 54/100\n",
            "31/31 [==============================] - 1s 33ms/step - loss: 5.5064 - mae: 5.9468\n",
            "Epoch 55/100\n",
            "31/31 [==============================] - 1s 33ms/step - loss: 5.4382 - mae: 5.9006\n",
            "Epoch 56/100\n",
            "31/31 [==============================] - 1s 34ms/step - loss: 5.2936 - mae: 5.7471\n",
            "Epoch 57/100\n",
            "31/31 [==============================] - 1s 33ms/step - loss: 5.3198 - mae: 5.7881\n",
            "Epoch 58/100\n",
            "31/31 [==============================] - 1s 32ms/step - loss: 5.1549 - mae: 5.6591\n",
            "Epoch 59/100\n",
            "31/31 [==============================] - 1s 33ms/step - loss: 5.3084 - mae: 5.7545\n",
            "Epoch 60/100\n",
            "31/31 [==============================] - 1s 33ms/step - loss: 5.0298 - mae: 5.5567\n",
            "Epoch 61/100\n",
            "31/31 [==============================] - 1s 32ms/step - loss: 4.9550 - mae: 5.4250\n",
            "Epoch 62/100\n",
            "31/31 [==============================] - 1s 33ms/step - loss: 5.1296 - mae: 5.5808\n",
            "Epoch 63/100\n",
            "31/31 [==============================] - 1s 33ms/step - loss: 5.2112 - mae: 5.6630\n",
            "Epoch 64/100\n",
            "31/31 [==============================] - 1s 35ms/step - loss: 5.0575 - mae: 5.5312\n",
            "Epoch 65/100\n",
            "31/31 [==============================] - 1s 33ms/step - loss: 4.9258 - mae: 5.3900\n",
            "Epoch 66/100\n",
            "31/31 [==============================] - 1s 34ms/step - loss: 5.3043 - mae: 5.7637\n",
            "Epoch 67/100\n",
            "31/31 [==============================] - 1s 33ms/step - loss: 5.2753 - mae: 5.7446\n",
            "Epoch 68/100\n",
            "31/31 [==============================] - 1s 33ms/step - loss: 5.2993 - mae: 5.7234\n",
            "Epoch 69/100\n",
            "31/31 [==============================] - 1s 33ms/step - loss: 5.3742 - mae: 5.8346\n",
            "Epoch 70/100\n",
            "31/31 [==============================] - 1s 33ms/step - loss: 6.1359 - mae: 6.6386\n",
            "Epoch 71/100\n",
            "31/31 [==============================] - 1s 33ms/step - loss: 4.9126 - mae: 5.4135\n",
            "Epoch 72/100\n",
            "31/31 [==============================] - 1s 33ms/step - loss: 5.6095 - mae: 6.0636\n",
            "Epoch 73/100\n",
            "31/31 [==============================] - 1s 32ms/step - loss: 5.3411 - mae: 5.8208\n",
            "Epoch 74/100\n",
            "31/31 [==============================] - 1s 32ms/step - loss: 6.6834 - mae: 7.1966\n",
            "Epoch 75/100\n",
            "31/31 [==============================] - 1s 33ms/step - loss: 5.7113 - mae: 6.1957\n",
            "Epoch 76/100\n",
            "31/31 [==============================] - 1s 33ms/step - loss: 5.1433 - mae: 5.6158\n",
            "Epoch 77/100\n",
            "31/31 [==============================] - 1s 33ms/step - loss: 5.7382 - mae: 6.2385\n",
            "Epoch 78/100\n",
            "31/31 [==============================] - 1s 34ms/step - loss: 7.2282 - mae: 7.6426\n",
            "Epoch 79/100\n",
            "31/31 [==============================] - 1s 33ms/step - loss: 5.0664 - mae: 5.5955\n",
            "Epoch 80/100\n",
            "31/31 [==============================] - 1s 33ms/step - loss: 6.4776 - mae: 7.0136\n",
            "Epoch 81/100\n",
            "31/31 [==============================] - 1s 33ms/step - loss: 6.6766 - mae: 7.1079\n",
            "Epoch 82/100\n",
            "31/31 [==============================] - 1s 32ms/step - loss: 6.7007 - mae: 7.2374\n",
            "Epoch 83/100\n",
            "31/31 [==============================] - 1s 34ms/step - loss: 6.3450 - mae: 6.8347\n",
            "Epoch 84/100\n",
            "31/31 [==============================] - 1s 33ms/step - loss: 5.8163 - mae: 6.3277\n",
            "Epoch 85/100\n",
            "31/31 [==============================] - 1s 34ms/step - loss: 7.0088 - mae: 7.6007\n",
            "Epoch 86/100\n",
            "31/31 [==============================] - 1s 33ms/step - loss: 7.4649 - mae: 7.9559\n",
            "Epoch 87/100\n",
            "31/31 [==============================] - 1s 33ms/step - loss: 8.0526 - mae: 8.5456\n",
            "Epoch 88/100\n",
            "31/31 [==============================] - 1s 33ms/step - loss: 7.0569 - mae: 7.4773\n",
            "Epoch 89/100\n",
            "31/31 [==============================] - 1s 33ms/step - loss: 6.4203 - mae: 6.9714\n",
            "Epoch 90/100\n",
            "31/31 [==============================] - 1s 34ms/step - loss: 7.9175 - mae: 8.3901\n",
            "Epoch 91/100\n",
            "31/31 [==============================] - 1s 33ms/step - loss: 5.9646 - mae: 6.4224\n",
            "Epoch 92/100\n",
            "31/31 [==============================] - 1s 33ms/step - loss: 7.6886 - mae: 8.2557\n",
            "Epoch 93/100\n",
            "31/31 [==============================] - 1s 33ms/step - loss: 10.2000 - mae: 10.6407\n",
            "Epoch 94/100\n",
            "31/31 [==============================] - 1s 33ms/step - loss: 9.8386 - mae: 10.2520\n",
            "Epoch 95/100\n",
            "31/31 [==============================] - 1s 34ms/step - loss: 8.0082 - mae: 8.6051\n",
            "Epoch 96/100\n",
            "31/31 [==============================] - 1s 33ms/step - loss: 10.0811 - mae: 10.7728\n",
            "Epoch 97/100\n",
            "31/31 [==============================] - 1s 33ms/step - loss: 12.3814 - mae: 12.8968\n",
            "Epoch 98/100\n",
            "31/31 [==============================] - 1s 33ms/step - loss: 11.2206 - mae: 11.6217\n",
            "Epoch 99/100\n",
            "31/31 [==============================] - 1s 34ms/step - loss: 14.2741 - mae: 14.6141\n",
            "Epoch 100/100\n",
            "31/31 [==============================] - 1s 33ms/step - loss: 10.7613 - mae: 11.1881\n"
          ],
          "name": "stdout"
        }
      ]
    },
    {
      "cell_type": "code",
      "metadata": {
        "id": "AkBsrsXMzoWR",
        "colab_type": "code",
        "outputId": "41556269-ec15-4de2-a05a-286103edaae5",
        "colab": {
          "base_uri": "https://localhost:8080/",
          "height": 290
        }
      },
      "source": [
        "plt.semilogx(history.history[\"lr\"], history.history[\"loss\"])\n",
        "plt.axis([1e-8, 1e-4, 0, 30])"
      ],
      "execution_count": 0,
      "outputs": [
        {
          "output_type": "execute_result",
          "data": {
            "text/plain": [
              "[1e-08, 0.0001, 0, 30]"
            ]
          },
          "metadata": {
            "tags": []
          },
          "execution_count": 6
        },
        {
          "output_type": "display_data",
          "data": {
            "image/png": "[encoded data removed]",
            "text/plain": [
              "<Figure size 432x288 with 1 Axes>"
            ]
          },
          "metadata": {
            "tags": []
          }
        }
      ]
    },
    {
      "cell_type": "code",
      "metadata": {
        "id": "4uh-97bpLZCA",
        "colab_type": "code",
        "colab": {}
      },
      "source": [
        "tf.keras.backend.clear_session()\n",
        "tf.random.set_seed(51)\n",
        "np.random.seed(51)\n",
        "\n",
        "tf.keras.backend.clear_session()\n",
        "dataset = windowed_dataset(x_train, window_size, batch_size, shuffle_buffer_size)\n",
        "\n",
        "model = tf.keras.models.Sequential([\n",
        "  tf.keras.layers.Lambda(lambda x: tf.expand_dims(x, axis=-1),\n",
        "                      input_shape=[None]),\n",
        "   tf.keras.layers.Bidirectional(tf.keras.layers.LSTM(32, return_sequences=True)),\n",
        "  tf.keras.layers.Bidirectional(tf.keras.layers.LSTM(32)),\n",
        "  tf.keras.layers.Dense(1),\n",
        "  tf.keras.layers.Lambda(lambda x: x * 100.0)\n",
        "])\n",
        "\n",
        "\n",
        "model.compile(loss=\"mse\", optimizer=tf.keras.optimizers.SGD(lr=1e-5, momentum=0.9),metrics=[\"mae\"])\n",
        "history = model.fit(dataset,epochs=500,verbose=0)"
      ],
      "execution_count": 0,
      "outputs": []
    },
    {
      "cell_type": "code",
      "metadata": {
        "id": "icGDaND7z0ne",
        "colab_type": "code",
        "colab": {}
      },
      "source": [
        "forecast = []\n",
        "results = []\n",
        "for time in range(len(series) - window_size):\n",
        "  forecast.append(model.predict(series[time:time + window_size][np.newaxis]))\n",
        "\n",
        "forecast = forecast[split_time-window_size:]\n",
        "results = np.array(forecast)[:, 0, 0]\n",
        "\n",
        "\n",
        "plt.figure(figsize=(10, 6))\n",
        "\n",
        "plot_series(time_valid, x_valid)\n",
        "plot_series(time_valid, results)"
      ],
      "execution_count": 0,
      "outputs": []
    },
    {
      "cell_type": "code",
      "metadata": {
        "id": "KfPeqI7rz4LD",
        "colab_type": "code",
        "colab": {}
      },
      "source": [
        "tf.keras.metrics.mean_absolute_error(x_valid, results).numpy()"
      ],
      "execution_count": 0,
      "outputs": []
    },
    {
      "cell_type": "code",
      "metadata": {
        "id": "JUsdZB_tzDLe",
        "colab_type": "code",
        "colab": {}
      },
      "source": [
        "import matplotlib.image  as mpimg\n",
        "import matplotlib.pyplot as plt\n",
        "\n",
        "#-----------------------------------------------------------\n",
        "# Retrieve a list of list results on training and test data\n",
        "# sets for each training epoch\n",
        "#-----------------------------------------------------------\n",
        "mae=history.history['mae']\n",
        "loss=history.history['loss']\n",
        "\n",
        "epochs=range(len(loss)) # Get number of epochs\n",
        "\n",
        "#------------------------------------------------\n",
        "# Plot MAE and Loss\n",
        "#------------------------------------------------\n",
        "plt.plot(epochs, mae, 'r')\n",
        "plt.plot(epochs, loss, 'b')\n",
        "plt.title('MAE and Loss')\n",
        "plt.xlabel(\"Epochs\")\n",
        "plt.ylabel(\"Accuracy\")\n",
        "plt.legend([\"MAE\", \"Loss\"])\n",
        "\n",
        "plt.figure()\n",
        "\n",
        "epochs_zoom = epochs[200:]\n",
        "mae_zoom = mae[200:]\n",
        "loss_zoom = loss[200:]\n",
        "\n",
        "#------------------------------------------------\n",
        "# Plot Zoomed MAE and Loss\n",
        "#------------------------------------------------\n",
        "plt.plot(epochs_zoom, mae_zoom, 'r')\n",
        "plt.plot(epochs_zoom, loss_zoom, 'b')\n",
        "plt.title('MAE and Loss')\n",
        "plt.xlabel(\"Epochs\")\n",
        "plt.ylabel(\"Accuracy\")\n",
        "plt.legend([\"MAE\", \"Loss\"])\n",
        "\n",
        "plt.figure()"
      ],
      "execution_count": 0,
      "outputs": []
    },
    {
      "cell_type": "code",
      "metadata": {
        "id": "3CGaYFxXNEAK",
        "colab_type": "code",
        "colab": {}
      },
      "source": [
        "tf.keras.backend.clear_session()\n",
        "dataset = windowed_dataset(x_train, window_size, batch_size, shuffle_buffer_size)\n",
        "\n",
        "model = tf.keras.models.Sequential([\n",
        "  tf.keras.layers.Lambda(lambda x: tf.expand_dims(x, axis=-1),\n",
        "                      input_shape=[None]),\n",
        "  tf.keras.layers.Bidirectional(tf.keras.layers.LSTM(32, return_sequences=True)),\n",
        "  tf.keras.layers.Bidirectional(tf.keras.layers.LSTM(32)),\n",
        "  tf.keras.layers.Dense(1),\n",
        "  tf.keras.layers.Lambda(lambda x: x * 100.0)\n",
        "])\n",
        "\n",
        "\n",
        "model.compile(loss=\"mse\", optimizer=tf.keras.optimizers.SGD(lr=1e-6, momentum=0.9))\n",
        "model.fit(dataset,epochs=100, verbose=0)"
      ],
      "execution_count": 0,
      "outputs": []
    },
    {
      "cell_type": "code",
      "metadata": {
        "id": "FJ3R8ysauz9e",
        "colab_type": "code",
        "colab": {}
      },
      "source": [
        "tf.keras.backend.clear_session()\n",
        "dataset = windowed_dataset(x_train, window_size, batch_size, shuffle_buffer_size)\n",
        "\n",
        "model = tf.keras.models.Sequential([\n",
        "  tf.keras.layers.Lambda(lambda x: tf.expand_dims(x, axis=-1),\n",
        "                      input_shape=[None]),\n",
        "  tf.keras.layers.Bidirectional(tf.keras.layers.LSTM(32, return_sequences=True)),\n",
        "  tf.keras.layers.Bidirectional(tf.keras.layers.LSTM(32, return_sequences=True)),\n",
        "  tf.keras.layers.Bidirectional(tf.keras.layers.LSTM(32)),\n",
        "  tf.keras.layers.Dense(1),\n",
        "  tf.keras.layers.Lambda(lambda x: x * 100.0)\n",
        "])\n",
        "\n",
        "\n",
        "model.compile(loss=\"mse\", optimizer=tf.keras.optimizers.SGD(lr=1e-6, momentum=0.9))\n",
        "model.fit(dataset,epochs=100)"
      ],
      "execution_count": 0,
      "outputs": []
    }
  ]
}